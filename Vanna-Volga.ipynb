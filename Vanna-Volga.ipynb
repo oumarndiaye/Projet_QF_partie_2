{
 "cells": [
  {
   "cell_type": "markdown",
   "metadata": {},
   "source": [
    "# FX option pricing with Vanna-Volga method"
   ]
  },
  {
   "cell_type": "markdown",
   "metadata": {},
   "source": [
    "## 1. Introduction"
   ]
  },
  {
   "cell_type": "markdown",
   "metadata": {},
   "source": [
    "The foreign-exchange options market is one of the largest and most liquid OTC derivatives markets in the world. Most trading is over the counter and lightly regulated (a fraction is traded on exchanges like CME - Chicago Mercantile Exchange).\n",
    "\n",
    "This market has developed its own way to quote options, which differs significantly from other markets. In addition to that, the precise meaning of the broker quotes depends on the details of the contract: for example, there are at least four different definitions for at-the-money strike (resp., “spot”, “forward”, “delta neutral”, “50 delta call”).<br>\n",
    "In this market, brokers usually quote volatilities in terms of delta instead of quoting volailities in terms of strike values or giving directly the price of the instrument. Market participants considers this input as it is the only parameter in Black-Scholes to correct in order to have an accurate price. The Black–Scholes theoretical value is used only as a reference quotation, to ensure that the involved counterparties are speaking of the same option.<br>\n",
    "Delta represents the derivative of the price of an option with respect to the spot. Implement a delta hedge strategy will make one’s position insensitive to small FX spot movements.\n",
    "\n",
    "Common quotes for volatility are:\n",
    "- **ATM volatility**: the value from the smile curve where the strike is such that the Delta of the call equals, in absolute value, that of the put (this strike is termed ATM “straddle” or ATM “delta neutral”).\n",
    "- **25-delta Risk Reversal**: the volatility at the strikes $K_c$, $K_p$ that satisfy $\\Delta Call(K_c,\\ \\sigma(K_c)) = 0.25$ and $\\Delta Put(K_p,\\ \\sigma(K_p)) = -0.25$ respectively.\n",
    "    - *Risk Reversal* is a measure of the skew in the demand for out-of-the-money (OTM) options at high strikes compared to low strike and can be interpreted as the market view of the most likely direction of the spot movement over the next maturity date.\n",
    "    - $Risk\\ Reversal = Call\\ implied\\ volatility - Put\\ imply\\ volatility$ with same deltas\n",
    "- **25-delta Butterfly** : \n",
    "    - *Butterfly* is a measure of the average demand for OTM options at low strikes and high strikes compared to those near the forward level and can be interpreted as the market view of the likelihood of larger moves in the spot price over the next maturity.\n",
    "    - $Butterfly = 0.5 \\times (call - put) - ATM$\n",
    "\n",
    "Below is the the relative positioning of different deltas within a stylized volatility smile (source: [FX Derivatives Trader School by Giles Jewitt](https://www.oreilly.com/library/view/fx-derivatives-trader/9781118967454/c12.xhtml))\n",
    "![title](https://www.oreilly.com/library/view/fx-derivatives-trader/9781118967454/images/c12ex002.jpg)"
   ]
  },
  {
   "cell_type": "markdown",
   "metadata": {},
   "source": [
    "## 2. Vanna-Volga method"
   ]
  },
  {
   "cell_type": "markdown",
   "metadata": {},
   "source": [
    "### 2.1. The limitations of the Black-Scholes model"
   ]
  },
  {
   "cell_type": "markdown",
   "metadata": {},
   "source": [
    "The Black-Scholes model is one of the most popular models for options pricing despite having some limitations, based on several unrealistic assumptions, that render the price inaccurate and are problematic in our case such as:\n",
    "- Assuming constant value for risk free rate of return over the option duration.\n",
    "- Assuming constant value for volatility over the option duration.\n",
    "    - This comes down to consider that the volatility smile is flat, which is not true as you can see below (EUR USD volatility smiles as of February, 12th 2019).\n",
    "![alt text](EUR USD smiles.png \"EUR USD\")\n",
    "\n",
    "The most famous defect of the Black–Scholes model is the (wrong) assumption that the volatility is constant throughout the lifetime of the option. <br>\n",
    "A foreseeable manner to calculate the relevant price Black-Scholes prices is to find the accurate volatility through the volatility surface.\n",
    "\n",
    "Others models should assume that interest rates and the FX spot volatility follow stochastic processes that are coupled to the one of the spot, the choice of the stochastic process depending on empirical observations. But we known that for long-dated options the effect of the interest rate volatility can become as significant as that of the FX spot volatility, therefore a mis-calibration can lead to significant mis-pricing. <br>\n",
    "Stochastic volatility models are computationally demanding and in most cases require a delicate calibration procedure in order to find the value of parameters that allow the model reproduce the market dynamics."
   ]
  },
  {
   "cell_type": "markdown",
   "metadata": {},
   "source": [
    "### 2.2. Vega, Vanna & Volga"
   ]
  },
  {
   "cell_type": "markdown",
   "metadata": {},
   "source": [
    "The **vega** is the sensitivity of an option to the changes in the implied volatility for a maturity equal to its stopping time. It has a bell shape and generally decreases with time. The ATM Vega is the peak and it decreases more and more for deep in-the-money and out-of-the-money options.\n",
    "\\begin{align}\n",
    "\\nu = \\frac{\\delta F}{\\delta \\sigma}\n",
    "\\end{align}\n",
    "where F is the derivative security and $\\sigma$ the implied volatility\n",
    "- For example, if volatility is 9% and the vega is 0.5, the option will pick up 50 cents when the volatility raised by one percentage up to 10%.\n",
    "\n",
    "A highly positive or negative Vega implies that the portfolio is very sensitive to the small changes of volatility.<br>\n",
    "If the value of Vega is close to zero, it suggests that the volatility has little impact on the value of the portfolio. <br>\n",
    "**The Black-Scholes model cannot take care of the sensitivity of Vega** because a Vega-neutral position is subject to changes of spot and volatility. Therefore, we need to know the sensitivity of Vega to the changes in spot (vanna) and implied volatility (volga).\n",
    "<br><br><br>\n",
    "**Vanna** is the rate at which the delta and vega of an option will change as the volatility and price of the underlying security change respectively. It can be defined in three different ways:\n",
    "- the change of Vega V with respect to the change in underlying price S.\n",
    "\\begin{align}\n",
    "vanna = \\frac{\\delta V}{\\delta S}\n",
    "\\end{align}\n",
    "- the sensitivity of Delta $\\Delta$ with respect to the change in volatility\n",
    "\\begin{align}\n",
    "vanna = \\frac{\\delta \\Delta}{\\delta \\sigma}\n",
    "\\end{align}\n",
    "- the sensitivity of option value P with respect to a joint movement in volatility $\\sigma$ and the underlying price S\n",
    "\\begin{align}\n",
    "vanna = \\frac{\\delta^2 P}{\\delta \\sigma \\delta S}\n",
    "\\end{align}\n",
    "\n",
    "In Black-Scholes model, the vanna of simple option is:\n",
    "\\begin{align}\n",
    "vanna = e^{-qt} \\sqrt{T - t} N'(d1) \\frac{d2}{\\sigma}\n",
    "\\end{align}\n",
    "\n",
    "Vanna can be useful to watch when a trader want to be delta neutral or vega neutral. This metric can be useful when you need to determine whether your options portfolio is net long/short calls/puts while holding multiple positions. Points to consider:\n",
    "- long call positions and short put options have positive vanna.\n",
    "- short call positions and long put options have negative vanna.\n",
    "    - because an increase in volatility will increase the change of an option that is moving towards the money.\n",
    "<br><br>\n",
    "\n",
    "**Volga** or volatility Gamma represents the sensitivity of vega with respect to the change in volatility. A positive value for vomma indicates that a percentage point increase in volatility will result in an increased option value which is demonstrated by vega’s convexity, meaning that the option with high volga can benifit from volatility of volatility. It can be defined in two different ways:\n",
    "- the change in vega with respect to a change in volatility $\\sigma$\n",
    "\\begin{align}\n",
    "volga = \\frac{\\delta vega}{\\delta \\sigma}\n",
    "\\end{align}\n",
    "- the second derivative of option value P with respect to changes in volatility $\\sigma$\n",
    "\\begin{align}\n",
    "vanna = \\frac{\\delta^2 P}{\\delta \\sigma}\n",
    "\\end{align}\n",
    "\n",
    "In Black-Scholes model, the volga of simple option is:\n",
    "\\begin{align}\n",
    "volga = e^{-qt} \\sqrt{T - t} N'(d1) \\frac{d1 \\dot d2}{\\sigma}\n",
    "\\end{align}\n",
    "\n",
    "\n",
    "Points to consider:\n",
    "- volga is positive for options not in the money, and generally increases as the option gets deeper out-of-the-money. \n",
    "    - a positive volga means that a position will become long vega as implied volatility increases and vice-versa.\n",
    "- it decreases when vega drops."
   ]
  },
  {
   "cell_type": "markdown",
   "metadata": {},
   "source": [
    "### 2.3. Vanna-Volga option pricing"
   ]
  },
  {
   "cell_type": "markdown",
   "metadata": {},
   "source": [
    "Vanna‐Volga is a popular method for interpolation/extrapolation of volatility smiles. This method consider that the price of an option formulated with Black-Scholes formula can be corrected by adding the hedging of three main risks associated to the volatility of the option presented above: the vega, the vanna and the volga. Therefore, the hedging portfolio contains the three following strategies based on three main volatility quotes that are available for a given maturity:\n",
    "- the delta-neutral straddle:\n",
    "\\begin{align} ATM = 0.5 \\times Straddle(K_{ATM}) \\end{align}\n",
    "- the risk reversal:\n",
    "\\begin{align} Risk\\ Reversal = Call(K_c, \\sigma(K_c)) - Put(K_c, \\sigma(K_c)) \\end{align}\n",
    "- the vega-weighted butterfly:\n",
    "\\begin{align} Butterfly = 0.5 \\times Strangle(K_c, K_p) - 0.5 \\times Straddle(K_{ATM}) \\end{align}\n",
    "\n",
    "Besides being intuitive and easy to implement, this procedure has a clear financial interpretation, which further supports its use in practice.\n",
    "- First, it is an efficient tool for interpolating and extrapolating volatility for a given maturity while reproducing exactly the market quoted volatilities.\n",
    "- Second, it can be employed in any market where at least three volatility quotes are available for a given maturity.\n",
    "- Third, this method can derive implied volatilities for any options delta, particularly for those outside the basic range set.\n",
    "- Fourth, this non-parametric method produces a consistent and complete smile with just three prices for each maturity.\n",
    "- Fifth, it is supported by a clear financial rationale based on a hedging argument. \n",
    "- Finally, this method allows for the automatic calibration to the three input volatilities derived from market prices and acts as an explicit function of them.\n",
    "\n",
    "![alt text](EUR USD surface.png \"EUR USD\")"
   ]
  },
  {
   "cell_type": "markdown",
   "metadata": {},
   "source": [
    "## 3. Our FX option pricer"
   ]
  },
  {
   "cell_type": "markdown",
   "metadata": {},
   "source": [
    "This pricer give the premium in EUR for EUR / USD european option."
   ]
  },
  {
   "cell_type": "code",
   "execution_count": 1,
   "metadata": {},
   "outputs": [],
   "source": [
    "import numpy as np\n",
    "import math\n",
    "import matplotlib.pyplot as plt\n",
    "import pandas as pd\n",
    "import scipy.stats as sct\n",
    "from datetime import datetime"
   ]
  },
  {
   "cell_type": "code",
   "execution_count": 2,
   "metadata": {},
   "outputs": [],
   "source": [
    "class FX_Option:\n",
    "    \n",
    "    def __init__(self, notionalCall, notionalPut, direction, expiry, spot, Rates, tToMat, impVol):\n",
    "        self.notionalCall = notionalCall #call notional\n",
    "        self.notionalPut = notionalPut #put notional\n",
    "        self.direction = direction #direction for the 2 ccys\n",
    "        self.expiry = expiry #settlement date\n",
    "        self.spot = spot #fx spot 1 put_notional in call_notional_currency\n",
    "        \n",
    "        self.K_t = self.notionalCall / self.notionalPut #strike\n",
    "        self.t = ((datetime.strptime(self.expiry, \"%d/%m/%Y\") - datetime.today().replace(hour = 0,\n",
    "                minute = 0, second = 0, microsecond = 0)).days) / 365 #time to expiry from today (expressed in years)\n",
    "        \n",
    "        self.EURois = np.array(Rates[\"EUR OIS\"]) #eur ois interest rate\n",
    "        self.USDois = np.array(Rates[\"USD OIS\"]) #usd ois interest rate\n",
    "        self.F = np.array(Rates[\"EUR/USD Fwd\"]) #EUR/USD forward rate\n",
    "        \n",
    "        self.tToMat = np.array(tToMat) #tenor expressed in years\n",
    "        \n",
    "        self.d25call = np.array(impVol[\"ATM\"] + impVol[\"25D BF\"] + 0.5 * impVol[\"25D RR\"]) #\n",
    "        self.d25put = np.array(impVol[\"ATM\"] + impVol[\"25D BF\"] - 0.5 * impVol[\"25D RR\"]) #\n",
    "        self.ATM = np.array(impVol[\"ATM\"]) #\n",
    "        self.d10call = np.array(impVol[\"ATM\"] + impVol[\"10D BF\"] + 0.5 * impVol[\"10D RR\"]) #\n",
    "        self.d10put = np.array(impVol[\"ATM\"] + impVol[\"10D BF\"] - 0.5 * impVol[\"10D RR\"]) #\n",
    "        \n",
    "        self.r = np.interp(x = self.t, xp = self.tToMat, fp = self.USDois) #r_t rajouter si call=USD -> USD & inverse\n",
    "        self.df = 100 / (100 + self.r) #discount factor call_notional_currency\n",
    "        self.F_t = np.interp(x = self.t, xp = tToMat, fp = self.F) \n",
    "        \n",
    "        self.r_d = -np.log(self.df) / self.t #domestic interest rates implied from discount factor\n",
    "        self.r_e = self.r_d - np.log(self.F_t / self.spot) / self.t #foreign interest rates\n",
    "        \n",
    "        self.vPut = self.vInt(self.d25put) \\\n",
    "                    if (self.K_t > self.vInt(self.d25put) and self.K_t > self.vInt(self.d25call)) else \\\n",
    "                    self.vInt(self.d10put)\n",
    "        self.vATM = self.vInt(self.ATM) \\\n",
    "                    if (self.K_t > self.vInt(self.ATM) and self.K_t > self.vInt(self.ATM)) else \\\n",
    "                    self.vInt(self.ATM)\n",
    "        self.vCall = self.vInt(self.d25call) \\\n",
    "                    if (self.K_t > self.vInt(self.d25put) and self.K_t > self.vInt(self.d25call)) else \\\n",
    "                    self.vInt(self.d10call)      \n",
    "        self.kPut = self.relevantK(self.vPut, \"Put\", 0.25) \\\n",
    "                    if (self.K_t > self.vInt(self.d25put) and self.K_t > self.vInt(self.d25call)) else \\\n",
    "                    self.relevantK(self.vPut, \"Put\", 0.1)\n",
    "        self.kATM = self.relevantK(self.vATM, \"ATM\", 0.25) \\\n",
    "                    if (self.K_t > self.vInt(self.d25put) and self.K_t > self.vInt(self.d25call)) else \\\n",
    "                    self.relevantK(self.vATM, \"ATM\", 0.1)\n",
    "        self.kCall = self.relevantK(self.vCall, \"Call\", 0.25) \\\n",
    "                    if (self.K_t > self.vInt(self.d25put) and self.K_t > self.vInt(self.d25call)) else \\\n",
    "                    self.relevantK(self.vCall, \"Call\", 0.1)\n",
    "        \n",
    "        #first approximation of implied volatility\n",
    "        self.firstVol = self.firstOrderVol(self.kPut,self.kATM,self.kCall, self.K_t, self.vPut, self.vATM, self.vCall)\n",
    "        \n",
    "        #second approximation of implied volatility\n",
    "        self.secondVol = self.secondOrderVol(self.kPut,self.kATM,self.kCall,self.K_t,self.vPut, self.vATM, self.vCall)\n",
    "        \n",
    "        #switch between EUR call & EUR put\n",
    "        self.z = - 1 if self.direction.lower().find(\"eur put\") != -1 else 1 #if eur put -> -1 , eur call -> 1\n",
    "        \n",
    "        #notional in eur\n",
    "        self.EURnot = notionalCall if self.direction.lower().find(\"eur call\") != -1 else notionalPut\n",
    "        \n",
    "        #option price\n",
    "        ##price in currency\n",
    "        self.p = self.EURnot * self.df * (self.z * self.F_t * \\\n",
    "                    sct.norm.cdf(self.z * self.d1(self.F_t, self.K_t, self.secondVol, self.t)) - self.z * self.K_t * \\\n",
    "                    sct.norm.cdf(self.z * self.d2(self.F_t, self.K_t, self.secondVol, self.t))) / self.spot\n",
    "    \n",
    " \n",
    "    ##price in % of notional\n",
    "    def pricePct(self):\n",
    "        return print(\"\"\"FX option: {0:<20s}\\nPrice: {1:2.4f}%\"\"\".format(self.direction , \\\n",
    "                                                                        (self.p / self.notionalPut) * 100))\n",
    "    ##price in currency\n",
    "    def price(self):\n",
    "        return print(\"\"\"FX option: {0:<20s}\\nPrice: {1:,.2f} EUR\"\"\".format(self.direction, self.p))\n",
    "    ##Greeks summary\n",
    "    def Greeks(self):\n",
    "        return print(\"FX option: {0:<20s}\\nDelta: {1:1.4f} \\t Gamma: {2:1.4f} \\t Theta: {3:1.4f} \\t Vega: {4:1.4f}\\\n",
    "            \\nRho: {5:1.4f} \\t Vanna: {6:1.4f} \\t Volga: {7:1.4f}\".format(self.direction, self.delta(), self.gamma(),\\\n",
    "                self.theta(), self.vega(), self.rho(),self.vanna(), self.volga()))\n",
    "    \n",
    "    \n",
    "    #find the volatility with linear interpolation\n",
    "    def vInt(self, vecVol):\n",
    "        return np.interp(x = self.t, xp = self.tToMat, fp = vecVol)\n",
    "\n",
    "    \n",
    "    #calculate the strike\n",
    "    def relevantK(self, v, pos, d):\n",
    "        if pos == \"ATM\":\n",
    "            k = self.spot * np.exp((self.r_d - self.r_e + 0.5 * (v / 100) ** 2) * self.t)\n",
    "        elif pos == \"Call\":\n",
    "            k = self.spot * np.exp(-sct.norm.ppf(d * np.exp(self.r_e * self.t)) * (v / 100) * np.sqrt(self.t) + \\\n",
    "                                   (self.r_d - self.r_e + 0.5 * (v / 100) ** 2) * self.t)\n",
    "        elif pos == \"Put\":\n",
    "            k = self.spot * np.exp(sct.norm.ppf(d * np.exp(self.r_e * self.t)) * (v / 100) * np.sqrt(self.t) + \\\n",
    "                                   (self.r_d - self.r_e + 0.5 * (v / 100) ** 2) * self.t)\n",
    "        return k\n",
    "\n",
    "    \n",
    "    #calculate the 2nd order approximation of volatility\n",
    "    def firstOrderVol(self, kPut, kATM, kCall, k, volPut, volATM, volCall):\n",
    "        ch1 = self.chi1(kPut, kATM, kCall, k)\n",
    "        ch2 = self.chi2(kPut, kATM, kCall, k)\n",
    "        ch3 = self.chi3(kPut, kATM, kCall, k)\n",
    "        return np.float64(ch1 * volPut + ch2 * volATM + ch3 * volCall) #eventuellement entourer par np.float64\n",
    "\n",
    "    #used to calculate the 1st order approximation of volatility & D2\n",
    "    def chi1(self, kPut, kATM, kCall, k):\n",
    "        return (np.log(kATM / k) * np.log(kCall / k)) / (np.log(kATM / kPut) * np.log(kCall / kPut))\n",
    "        \n",
    "    def chi2(self, kPut, kATM, kCall, k):\n",
    "        return (np.log(k / kPut) * np.log(kCall / k)) / (np.log(kATM / kPut) * np.log(kCall / kATM))\n",
    "    \n",
    "    def chi3(self, kPut, kATM, kCall, k):\n",
    "        return (np.log(k / kPut) * np.log(k / kATM)) / (np.log(kCall / kPut) * np.log(kCall / kATM))\n",
    "    \n",
    "    \n",
    "    #calculate the 2nd order approximation of volatility\n",
    "    def secondOrderVol(self, kPut, kATM, kCall, k, volPut, volATM, volCall):\n",
    "        return self.firstOrderVol(kPut, kATM, kCall, k, volPut, volATM, volCall) + \\\n",
    "            ((-self.firstOrderVol(kPut, kATM, kCall, k, volPut, volATM, volCall) + \\\n",
    "            np.sqrt((self.firstOrderVol(kPut, kATM, kCall, k, volPut, volATM, volCall) ** 2) + \\\n",
    "            self.d1(self.F_t, self.K_t, self.firstOrderVol(kPut, kATM, kCall, k, volPut, volATM, volCall), self.t) * \\\n",
    "            self.d2(self.F_t, self.K_t, self.firstOrderVol(kPut, kATM, kCall, k, volPut, volATM, volCall), self.t) * \\\n",
    "            (2 * self.firstOrderVol(kPut, kATM, kCall, k, volPut, volATM, volCall) * \\\n",
    "            self.D1(kPut, kATM, kCall, k, volPut, volATM, volCall) * \\\n",
    "            self.D2(kPut, kATM, kCall, k, volPut, volATM, volCall)))) / \\\n",
    "            (self.d1(self.F_t, self.K_t, self.firstOrderVol(kPut, kATM, kCall, k, volPut, volATM, volCall), self.t) * \\\n",
    "            self.d2(self.F_t, self.K_t, self.firstOrderVol(kPut, kATM, kCall, k, volPut, volATM, volCall), self.t)))\n",
    "\n",
    "    \n",
    "    #intermediate calculations for 2nd order approximation of volatility\n",
    "    def d1(self, F,K,sigma,t):\n",
    "        return (np.log(F / K) + (0.5 * (sigma / 100) ** 2) * t) / ((sigma / 100) * np.sqrt(t))\n",
    "    \n",
    "    def d2(self, F,K,sigma,t):\n",
    "        return self.d1(F,K,sigma,t) - (sigma / 100) * np.sqrt(t)\n",
    "    \n",
    "    def D1(self, kPut, kATM, kCall, k, volPut, volATM, volCall):\n",
    "        return self.firstOrderVol(kPut, kATM, kCall, k, volPut, volATM, volCall) - volATM\n",
    "   \n",
    "    def D2(self, kPut, kATM, kCall, k, volPut, volATM, volCall):\n",
    "        return self.chi1(kPut, kATM, kCall, k) * self.d1(self.F_t, kPut, volPut, self.t) * \\\n",
    "                self.d2(self.F_t, kPut, volPut, self.t) * ((volPut - \\\n",
    "                    self.firstOrderVol(kPut, kATM, kCall, k, volPut, volATM, volCall)) ** 2) * \\\n",
    "            self.chi2(kPut, kATM, kCall, k) * self.d1(self.F_t, kATM, volATM, self.t) * \\\n",
    "                self.d2(self.F_t, kATM, volATM, self.t) * ((volATM - \\\n",
    "                    self.firstOrderVol(kPut, kATM, kCall, k, volPut, volATM, volCall)) ** 2) * \\\n",
    "            self.chi3(kPut, kATM, kCall, k) * self.d1(self.F_t, kCall, volCall, self.t) * \\\n",
    "                self.d2(self.F_t, kCall, volCall, self.t) * ((volCall - \\\n",
    "                    self.firstOrderVol(kPut, kATM, kCall, k, volPut, volATM, volCall)) ** 2) \n",
    "    \n",
    "    #Greeks\n",
    "    ##delta\n",
    "    def delta(self):\n",
    "        return self.z * self.df * sct.norm.cdf(self.z * self.d1(self.F_t, self.K_t, self.secondVol, self.t))\n",
    "    \n",
    "    #gamma\n",
    "    def gamma(self):\n",
    "        return sct.norm.pdf(self.d1(self.F_t, self.K_t, self.secondVol, self.t)) / \\\n",
    "                    (self.F_t * self.secondVol * np.sqrt(self.t))\n",
    "    ##theta\n",
    "    def theta(self):\n",
    "        return (-(self.F_t * sct.norm.pdf(self.d1(self.F_t, self.K_t, self.secondVol, self.t)) * self.secondVol) * \\\n",
    "                (2 * np.sqrt(self.t))) + self.z * ((self.r_d - self.r_e) * self.F_t * \\\n",
    "                sct.norm.cdf(self.z * self.d1(self.F_t, self.K_t, self.secondVol, self.t)) - (self.r_d - self.r_e) * \\\n",
    "                self.K_t * self.df * sct.norm.cdf(self.z * self.d2(self.F_t, self.K_t, self.secondVol, self.t)))\n",
    "    ##rho\n",
    "    def rho(self):\n",
    "        return (self.z * self.t * self.K_t * self.df * \\\n",
    "                sct.norm.cdf(self.z * self.d2(self.F_t, self.K_t, self.secondVol, self.t)))\n",
    "    ##vega\n",
    "    def vega(self):\n",
    "        return (self.F_t * sct.norm.pdf(self.d1(self.F_t, self.K_t, self.secondVol, self.t)) * np.sqrt(self.t))\n",
    "    ##vanna\n",
    "    def vanna(self):\n",
    "        return self.df * np.sqrt(self.t) * sct.norm.cdf(self.d1(self.F_t, self.K_t, self.secondVol, self.t)) * \\\n",
    "            (self.d2(self.F_t, self.K_t, self.secondVol, self.t) / self.secondVol)\n",
    "    ##volga\n",
    "    def volga(self):\n",
    "        return self.df * np.sqrt(self.t) * sct.norm.cdf(self.d1(self.F_t, self.K_t, self.secondVol, self.t)) * \\\n",
    "            ((self.d1(self.F_t, self.K_t, self.secondVol, self.t) * self.d2(self.F_t, self.K_t, self.secondVol, \\\n",
    "                                                                            self.t)) / self.secondVol) "
   ]
  },
  {
   "cell_type": "code",
   "execution_count": 3,
   "metadata": {},
   "outputs": [
    {
     "data": {
      "text/plain": [
       "1.1313"
      ]
     },
     "execution_count": 3,
     "metadata": {},
     "output_type": "execute_result"
    }
   ],
   "source": [
    "FXSpot = float(pd.read_csv(\"EUR USD FX rate - 12 02 2018 - 17h34.csv\", sep = \";\").values)\n",
    "FXSpot"
   ]
  },
  {
   "cell_type": "code",
   "execution_count": 4,
   "metadata": {},
   "outputs": [],
   "source": [
    "rates = pd.read_csv(\"EUR USD OIS rates - 12 02 2018 - 17h34.csv\", sep = \";\").iloc[::,1:]\n",
    "timeToMaturity = [1 / t for t in [365, 52, 52 * 1/2, 52 * 1/3, 12, 12 * 1/2, 12 * 1/3, 12 * 1/4, 12 * 1/5,\n",
    "                    12 * 1/6, 12 * 1/9, 1, 12 * 1/18,1/2, 1/3, 1/4, 1/5, 1/6, 1/7, 1/10, 1/15, 1/20, 1/25, 1/30]]\n",
    "rates = rates.interpolate(method = \"linear\", axis = 0)"
   ]
  },
  {
   "cell_type": "code",
   "execution_count": 5,
   "metadata": {},
   "outputs": [],
   "source": [
    "implyVolTab = pd.read_csv(\"EUR USD Implied Volatilities - 12 02 2018 - 17h34.csv\", sep = \";\")"
   ]
  },
  {
   "cell_type": "code",
   "execution_count": 6,
   "metadata": {},
   "outputs": [],
   "source": [
    "Put1 = FX_Option(11600000,10000000, \"USD Call / EUR Put\", \"14/06/2020\", FXSpot, rates, timeToMaturity, implyVolTab)\n",
    "Put2 = FX_Option(12000000,10000000, \"USD Call / EUR Put\", \"14/06/2020\", FXSpot, rates, timeToMaturity, implyVolTab)"
   ]
  },
  {
   "cell_type": "code",
   "execution_count": 7,
   "metadata": {},
   "outputs": [
    {
     "name": "stdout",
     "output_type": "stream",
     "text": [
      "FX option: USD Call / EUR Put  \n",
      "Price: 2.7041%\n",
      "FX option: USD Call / EUR Put  \n",
      "Price: 4.4382%\n"
     ]
    }
   ],
   "source": [
    "Put1.pricePct()\n",
    "Put2.pricePct()"
   ]
  },
  {
   "cell_type": "code",
   "execution_count": 8,
   "metadata": {},
   "outputs": [
    {
     "name": "stdout",
     "output_type": "stream",
     "text": [
      "FX option: USD Call / EUR Put  \n",
      "Price: 270,414.00 EUR\n",
      "FX option: USD Call / EUR Put  \n",
      "Price: 443,823.45 EUR\n"
     ]
    }
   ],
   "source": [
    "Put1.price()\n",
    "Put2.price()"
   ]
  },
  {
   "cell_type": "code",
   "execution_count": 9,
   "metadata": {},
   "outputs": [
    {
     "name": "stdout",
     "output_type": "stream",
     "text": [
      "FX option: USD Call / EUR Put  \n",
      "Delta: -0.3994 \t Gamma: 0.0384 \t Theta: -7.8591 \t Vega: 0.5268            \n",
      "Rho: -0.6635 \t Vanna: 0.0128 \t Volga: 0.0030\n",
      "FX option: USD Call / EUR Put  \n",
      "Delta: -0.5542 \t Gamma: 0.0396 \t Theta: -7.7992 \t Vega: 0.5332            \n",
      "Rho: -0.9309 \t Vanna: -0.0169 \t Volga: 0.0029\n"
     ]
    }
   ],
   "source": [
    "Put1.Greeks()\n",
    "Put2.Greeks()"
   ]
  },
  {
   "cell_type": "code",
   "execution_count": 10,
   "metadata": {},
   "outputs": [],
   "source": [
    "Call1 = FX_Option(11800000,10000000, \"USD Put / EUR Call\", \"14/06/2020\", FXSpot, rates, timeToMaturity, implyVolTab)\n",
    "Call2 = FX_Option(12000000,10000000, \"USD Put / EUR Call\", \"14/06/2020\", FXSpot, rates, timeToMaturity, implyVolTab)"
   ]
  },
  {
   "cell_type": "code",
   "execution_count": 11,
   "metadata": {},
   "outputs": [
    {
     "name": "stdout",
     "output_type": "stream",
     "text": [
      "FX option: USD Put / EUR Call  \n",
      "Price: 400,036.69 EUR\n",
      "FX option: USD Put / EUR Call  \n",
      "Price: 312,828.64 EUR\n"
     ]
    }
   ],
   "source": [
    "Call1.price()\n",
    "Call2.price()"
   ]
  },
  {
   "cell_type": "code",
   "execution_count": 12,
   "metadata": {},
   "outputs": [
    {
     "name": "stdout",
     "output_type": "stream",
     "text": [
      "FX option: USD Put / EUR Call  \n",
      "Price: 4.0004%\n",
      "FX option: USD Put / EUR Call  \n",
      "Price: 3.1283%\n"
     ]
    }
   ],
   "source": [
    "Call1.pricePct()\n",
    "Call2.pricePct()"
   ]
  },
  {
   "cell_type": "code",
   "execution_count": 13,
   "metadata": {},
   "outputs": [
    {
     "name": "stdout",
     "output_type": "stream",
     "text": [
      "FX option: USD Put / EUR Call  \n",
      "Delta: 0.5001 \t Gamma: 0.0399 \t Theta: -7.9682 \t Vega: 0.5407            \n",
      "Rho: 0.7293 \t Vanna: -0.0043 \t Volga: -0.0001\n",
      "FX option: USD Put / EUR Call  \n",
      "Delta: 0.4224 \t Gamma: 0.0396 \t Theta: -7.7990 \t Vega: 0.5332            \n",
      "Rho: 0.6199 \t Vanna: -0.0169 \t Volga: 0.0029\n"
     ]
    }
   ],
   "source": [
    "Call1.Greeks()\n",
    "Call2.Greeks()"
   ]
  },
  {
   "cell_type": "markdown",
   "metadata": {},
   "source": [
    "## Bibliography"
   ]
  },
  {
   "cell_type": "markdown",
   "metadata": {},
   "source": [
    "Vanna Volga and Smile-consistent Implied Volatility Surface of Equity Index Option - Kun Huang<br>\n",
    "The Vanna-Volga method for implied volatilities: tractability and robustness - Antonio Castagna & Fabio Mercurio <br>\n",
    "Vanna-Volga Methods Applied to FX Derivatives: from theory to market practice - Frédéric Bossens, Grégory Rayée, Nikos S. Skantzos & Griselda Deelstra<br>\n",
    "A Guide to FX Options Quoting Conventions - Dmitri Reiswich & Uwe Wystup"
   ]
  }
 ],
 "metadata": {
  "kernelspec": {
   "display_name": "Python 3",
   "language": "python",
   "name": "python3"
  },
  "language_info": {
   "codemirror_mode": {
    "name": "ipython",
    "version": 3
   },
   "file_extension": ".py",
   "mimetype": "text/x-python",
   "name": "python",
   "nbconvert_exporter": "python",
   "pygments_lexer": "ipython3",
   "version": "3.6.5"
  }
 },
 "nbformat": 4,
 "nbformat_minor": 2
}
